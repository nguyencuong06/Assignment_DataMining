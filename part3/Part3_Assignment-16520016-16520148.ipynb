{
 "cells": [
  {
   "cell_type": "markdown",
   "metadata": {},
   "source": [
    "# Final Assignment"
   ]
  },
  {
   "cell_type": "markdown",
   "metadata": {},
   "source": [
    "# Course: Data Mining and Application"
   ]
  },
  {
   "cell_type": "markdown",
   "metadata": {},
   "source": [
    "# Author:"
   ]
  },
  {
   "cell_type": "markdown",
   "metadata": {},
   "source": [
    "### Pham Binh An - 16520016\n",
    "### Nguyen Huy Cuong - 16520148"
   ]
  },
  {
   "cell_type": "markdown",
   "metadata": {},
   "source": [
    "# Part 3 : Evaluation"
   ]
  },
  {
   "cell_type": "code",
   "execution_count": 1,
   "metadata": {},
   "outputs": [],
   "source": [
    "#Import library\n",
    "import pandas as pd\n",
    "import numpy as np"
   ]
  },
  {
   "cell_type": "code",
   "execution_count": 2,
   "metadata": {},
   "outputs": [
    {
     "name": "stderr",
     "output_type": "stream",
     "text": [
      "C:\\Users\\Nguyen Huy Cuong\\AppData\\Local\\Programs\\Python\\Python37-32\\lib\\site-packages\\IPython\\core\\interactiveshell.py:3057: DtypeWarning: Columns (0,4,5,6,7) have mixed types. Specify dtype option on import or set low_memory=False.\n",
      "  interactivity=interactivity, compiler=compiler, result=result)\n"
     ]
    }
   ],
   "source": [
    "#Import data file\n",
    "df = pd.read_csv('D:/Data Mining/UIT_bigdata_labs_2019/assignment/data.csv')"
   ]
  },
  {
   "cell_type": "markdown",
   "metadata": {},
   "source": [
    "### What are the findings of your data analytics?"
   ]
  },
  {
   "cell_type": "markdown",
   "metadata": {},
   "source": [
    "> Sector- CEO & General Management have highest average salary\n",
    "\n",
    "> Top 3 job: General Practitioners, Medical Specialists, COO & MD\n",
    "\n",
    "> 'Information & Communication Technology' have high salary and most job appearance \n",
    "  \n",
    "> The range (999-200) has appear many times so it become common range in each city \n",
    "\n",
    "> Top 3 place to work : ACT,  Port Macquarie & Mid North Coast, Bundaberg & Wide Bay Burnet\n",
    "\n",
    "> Most of job type also posted in 2018-10"
   ]
  },
  {
   "cell_type": "code",
   "execution_count": 4,
   "metadata": {},
   "outputs": [
    {
     "data": {
      "text/plain": [
       "Information & Communication Technology    22796\n",
       "Trades & Services                         17976\n",
       "Healthcare & Medical                      17085\n",
       "Hospitality & Tourism                     15523\n",
       "Manufacturing, Transport & Logistics      12376\n",
       "Administration & Office Support           10020\n",
       "Accounting                                 9368\n",
       "Education & Training                       9280\n",
       "Construction                               8372\n",
       "Sales                                      8119\n",
       "Retail & Consumer Products                 8041\n",
       "Government & Defence                       7443\n",
       "Engineering                                6458\n",
       "Mining, Resources & Energy                 6288\n",
       "Banking & Financial Services               4633\n",
       "Community Services & Development           4485\n",
       "Legal                                      4237\n",
       "Human Resources & Recruitment              4144\n",
       "Call Centre & Customer Service             3971\n",
       "Marketing & Communications                 3968\n",
       "Real Estate & Property                     3614\n",
       "Design & Architecture                      1811\n",
       "Insurance & Superannuation                 1474\n",
       "Consulting & Strategy                      1206\n",
       "Sport & Recreation                          984\n",
       "Science & Technology                        905\n",
       "Farming, Animals & Conservation             882\n",
       "CEO & General Management                    844\n",
       "Advertising, Arts & Media                   833\n",
       "Self Employment                              93\n",
       "Name: Classification, dtype: int64"
      ]
     },
     "execution_count": 4,
     "metadata": {},
     "output_type": "execute_result"
    }
   ],
   "source": [
    "df['Classification'].value_counts()"
   ]
  },
  {
   "cell_type": "markdown",
   "metadata": {},
   "source": [
    "### What actions for balancing the markets do you suggest based on your findings?"
   ]
  },
  {
   "cell_type": "markdown",
   "metadata": {},
   "source": [
    "> The average "
   ]
  }
 ],
 "metadata": {
  "kernelspec": {
   "display_name": "Python 3",
   "language": "python",
   "name": "python3"
  },
  "language_info": {
   "codemirror_mode": {
    "name": "ipython",
    "version": 3
   },
   "file_extension": ".py",
   "mimetype": "text/x-python",
   "name": "python",
   "nbconvert_exporter": "python",
   "pygments_lexer": "ipython3",
   "version": "3.7.2"
  }
 },
 "nbformat": 4,
 "nbformat_minor": 2
}
