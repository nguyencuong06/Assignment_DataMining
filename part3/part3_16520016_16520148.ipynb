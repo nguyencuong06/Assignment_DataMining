{
 "cells": [
  {
   "cell_type": "markdown",
   "metadata": {},
   "source": [
    "# Part 3 - Evaluation\n",
    "###### Pham Binh An - 16520016\n",
    "###### Nguyen Huy Cuong - 16520148"
   ]
  },
  {
   "cell_type": "markdown",
   "metadata": {},
   "source": [
    "## 1) What are the findings of your data analytics ? "
   ]
  },
  {
   "cell_type": "markdown",
   "metadata": {},
   "source": [
    ">Based on the analysis and the dataset, we can conclude: \n",
    ">>     1. 'Information & Communication Technology' has higher average salary and appears the most than others.\n",
    ">>\n",
    ">>     2. Data Architect / Information Architect is the job with highest average salary. Top three statistics with high salary also related to Architect positions but in the different sub-sectors.\n",
    ">>\n",
    ">>     3. With each sector, salary range depends on its sub-sectors.\n",
    ">>\n",
    ">>     4. In the result of \"Salary Range of SubClassification\". some of SubClassification have different salary range.All of different values is decreased with others.\n",
    ">>\n",
    ">>     5. Top 3 highest salary subclassifications with format(subclassification-average_salary):\n",
    "         Average salary #(areas-average_salary):\n",
    "               1.General Practitioners - 515.417\n",
    "               2.Medical Specialists - 435.050\n",
    "               3.COO & MD - 397.372\n",
    ">>\n",
    ">>     6. Top 3 work areas with high salary: \n",
    "         Average salary #(areas-average_salary):\n",
    "               1.CBD, Inner West & Eastern Suburbs - 72.177\n",
    "               2.CBD & Inner Suburbs - 62.785\n",
    "               3.Ryde & Macquarie Park - 59.182 \n",
    ">>\n",
    ">>     7. Most of job are posted in 10-2018 (high percentage).\n",
    ">>\n",
    ">>     8. Top 3 locations with the number of jobs : \n",
    "          Number of jobs #(city-numberofjobs):\n",
    "               a. Sydney - 29982   \n",
    "               b. Melbourne - 24476 \n",
    "               c. Brisbane - 12268\n",
    ">>\n",
    ">>     9. Some of the requirements and full descriptions not emphasize on jobs skills, not so clearly.\n",
    "\n"
   ]
  },
  {
   "cell_type": "markdown",
   "metadata": {},
   "source": [
    "## 2) What actions for balancing the markets do you suggest based on your findings? "
   ]
  },
  {
   "cell_type": "markdown",
   "metadata": {},
   "source": [
    "> The hottest sector and job are related to information technology because of high salary:\n",
    ">> It occur imbalance job market. It can consume over the human resources.\n",
    ">>\n",
    ">> This problem can occur the deficiencies of human in other sectors/jobs.\n",
    ">>\n",
    ">> Company focus on other sector, not just Information and Communication Technology.\n",
    ">>\n",
    ">> The educate department could attract student to learn others jobs such as education, legal, aggriculture,... \n",
    ">>\n",
    ">> We should increase the salary in other job to balance the number of employees for many fields/areas in society.\n",
    "\n",
    "> When we talk about areas :\n",
    ">> Many employees have concern in exactly area can imply the deficiencies of human in other area.\n",
    ">>\n",
    ">> Can occur imbalance poppulation in this area.\n",
    ">>\n",
    ">> The goverment should have the policy to equally distribute the jobs to other areas"
   ]
  },
  {
   "cell_type": "markdown",
   "metadata": {},
   "source": [
    "## 3) How could you refine your data analytics ? "
   ]
  },
  {
   "cell_type": "markdown",
   "metadata": {},
   "source": [
    ">  We would like to suggest some way:\n",
    ">> We can get data from others sources may contains:\n",
    ">>> - Job name\n",
    ">>>\n",
    ">>> - FullDescription that have define skill needed for job\n",
    ">>\n",
    ">> We can obtain more relevant data by:\n",
    ">>> + Make a survey\n",
    ">>>\n",
    ">>> + Get data from jobs event\n",
    ">>\n",
    ">> Some techniques/parameters we think about:\n",
    ">>> + The data source we have now just from 3/2019 and earlier, so to catch the trend of current time, we need \"closer\" data as close as possbile\n",
    ">>> + We need a very powerful machine too, for analyzing what we collected, they will be very useful to be analyzed\n",
    ">>> + Some fields need to be added such as gender for the job, age_group, kind of degree (university, degree,...) and so on\n",
    ">>> + Try to visualize all in a big screen to monitor and catch up the changes and take actions (plans, implementations,...) as soon as possible"
   ]
  },
  {
   "cell_type": "markdown",
   "metadata": {},
   "source": [
    "## 4) Are there any implications for employers and employees based on the findings you obtained ?    "
   ]
  },
  {
   "cell_type": "markdown",
   "metadata": {},
   "source": [
    "> - Employers which work on hot sectors should prepare more carefully and detail the question for candidates to recruite the best ones. \n",
    ">\n",
    "> - Each kind of job type is recruited more in several times. Employees could based on this information to find a job.\n",
    ">\n",
    "> - Employees could move to other areas or locations if they want a larger space and higher salary, open mindset and see some thing new.\n",
    ">\n",
    "> Employees/Student should define what they can do/learn because some of hottest job at this time could not be hottest in the future.\n",
    "> From the findings, both sides of occupation got some useful information, both needs to prepare for future actions, near future."
   ]
  },
  {
   "cell_type": "markdown",
   "metadata": {},
   "source": [
    "## 5) Our brief data story   "
   ]
  },
  {
   "cell_type": "markdown",
   "metadata": {},
   "source": [
    "link: https://bit.ly/35ndLzb"
   ]
  }
 ],
 "metadata": {
  "kernelspec": {
   "display_name": "Python 3",
   "language": "python",
   "name": "python3"
  },
  "language_info": {
   "codemirror_mode": {
    "name": "ipython",
    "version": 3
   },
   "file_extension": ".py",
   "mimetype": "text/x-python",
   "name": "python",
   "nbconvert_exporter": "python",
   "pygments_lexer": "ipython3",
   "version": "3.7.3"
  }
 },
 "nbformat": 4,
 "nbformat_minor": 2
}
